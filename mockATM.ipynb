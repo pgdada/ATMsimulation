{
 "cells": [
  {
   "cell_type": "markdown",
   "metadata": {},
   "source": [
    "# Mock ATM Project"
   ]
  },
  {
   "cell_type": "markdown",
   "metadata": {},
   "source": [
    "Author : Promise Dada\r\n",
    "\r\n",
    "Date : 3/28/2021\r\n",
    "\r\n",
    "for Reskill American Python Back-end development training"
   ]
  },
  {
   "cell_type": "code",
   "execution_count": 1,
   "metadata": {},
   "outputs": [
    {
     "name": "stdout",
     "output_type": "stream",
     "text": [
      "Current Time = 23:26:22\n"
     ]
    }
   ],
   "source": [
    "from datetime import datetime as dt\r\n",
    "\r\n",
    "now = dt.now()\r\n",
    "current_time = now.strftime(\"%H:%M:%S\")\r\n",
    "print(\"Current Time =\", current_time)"
   ]
  },
  {
   "cell_type": "code",
   "execution_count": 2,
   "metadata": {},
   "outputs": [
    {
     "data": {
      "text/plain": "'03/28/21'"
     },
     "execution_count": 2,
     "metadata": {},
     "output_type": "execute_result"
    }
   ],
   "source": [
    "dt.today().strftime('%m/%d/%y')"
   ]
  },
  {
   "cell_type": "code",
   "execution_count": 3,
   "metadata": {},
   "outputs": [],
   "source": [
    "# %load run\r\n",
    "# Mock Project 1 / Reskill Americans\r\n",
    "# Promise Dada / 3/28/2021\r\n",
    "\r\n",
    "from datetime import datetime as dt\r\n",
    "\r\n",
    "allowedUsers = ['Dada', 'Seyi', 'Mike', 'Love']\r\n",
    "allowedPasswords = ['passwordDada', 'passwordSeyi', 'passwordMike', 'passwordLove']\r\n",
    "acctBalances = [2500, 300205, 50, 13000590.60]\r\n",
    "\r\n",
    "name = input(\"What is your username? \\n\")\r\n",
    "if name in allowedUsers:\r\n",
    "    password = input(\"Your password? \\n\")\r\n",
    "    userID = allowedUsers.index(name)\r\n",
    "    \r\n",
    "    if password == allowedPasswords[userID]:\r\n",
    "        time = dt.now().strftime(\"%H:%M\")\r\n",
    "        date = dt.today().strftime('%m/%d/%y')\r\n",
    "        print(f\"Today: {date}, Time : {time}\")\r\n",
    "        print(f'Welcome {name}')\r\n",
    "        balance = acctBalances[userID]\r\n",
    "        \r\n",
    "    else:\r\n",
    "        print('Password Incorect, please try again')\r\n",
    "else:\r\n",
    "    print('Name not found, please try again')\r\n",
    "\r\n",
    "atmTerminal = True\r\n",
    "while atmTerminal:\r\n",
    "    print('''these are the available options:\r\n",
    "    1. Withdrawal\r\n",
    "    2. Cash Deposit\r\n",
    "    3. Complaint\r\n",
    "    0. Exit\r\n",
    "    ''')\r\n",
    "    selectedOption = int(input('Please select an option: '))\r\n",
    "    \r\n",
    "    if selectedOption == 1:     #WITHDRAWAL\r\n",
    "        withdrawal = float(input(\"How much would you like to withdraw? \\n\"))\r\n",
    "        balance -=withdrawal\r\n",
    "        print(\"Take your cash!\")\r\n",
    "\r\n",
    "    elif selectedOption == 2:   #DEPOSIT\r\n",
    "        deposit = float(input(\"How much would you like to deposit? \\n\"))\r\n",
    "        balance += deposit\r\n",
    "        print(f\"Your current balance: {balance}\")\r\n",
    "\r\n",
    "    elif selectedOption == 3:   #COMPLAINTS\r\n",
    "        complaint = input(\"What issue will you like to report? \\n\")\r\n",
    "        print(\"Thank you for contacting us.\")\r\n",
    "\r\n",
    "    elif selectedOption == 0:\r\n",
    "        atmTerminal = False\r\n",
    "        print(\"Have a nice day!\")\r\n",
    "        break\r\n",
    "\r\n",
    "    else:\r\n",
    "        print('Invalid selection, please try again')\r\n",
    "        continue\r\n",
    "\r\n",
    "acctBalances[userID] = balance\r\n"
   ]
  }
 ],
 "metadata": {
  "kernelspec": {
   "display_name": "Python 3.7.9 64-bit ('base': conda)",
   "name": "python379jvsc74a57bd05eab878b76eea804b87732c30b1da7c80f4845ef451a040e44e7b1040bbe3a11"
  },
  "language_info": {
   "codemirror_mode": {
    "name": "ipython",
    "version": 3
   },
   "file_extension": ".py",
   "mimetype": "text/x-python",
   "name": "python",
   "nbconvert_exporter": "python",
   "pygments_lexer": "ipython3",
   "version": "3.7.9"
  },
  "orig_nbformat": 2
 },
 "nbformat": 4,
 "nbformat_minor": 2
}